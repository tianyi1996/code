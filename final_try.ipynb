{
 "cells": [
  {
   "cell_type": "markdown",
   "metadata": {},
   "source": [
    "# import package"
   ]
  },
  {
   "cell_type": "code",
   "execution_count": 1,
   "metadata": {},
   "outputs": [],
   "source": [
    "import thunder as td\n",
    "\n",
    "import pandas as pd\n",
    "\n",
    "import matplotlib.pyplot as plt\n",
    "\n",
    "import os\n",
    "\n",
    "from showit import tile\n",
    "\n",
    "from showit import image\n",
    "\n",
    "from regional import one\n",
    "\n",
    "import nibabel as nib\n",
    "\n",
    "import seaborn as sns\n",
    "\n",
    "import numpy as np\n",
    "\n",
    "import sklearn\n",
    "\n",
    "from skimage.transform import resize\n",
    "\n",
    "import station\n",
    "\n",
    "import nilearn\n",
    "\n",
    "from nilearn import datasets\n",
    "\n",
    "import skimage\n",
    "\n",
    "from numpy import rollaxis\n",
    "\n",
    "\n",
    "%matplotlib inline\n",
    "sns.set_style('darkgrid')\n",
    "sns.set_context('notebook')"
   ]
  },
  {
   "cell_type": "code",
   "execution_count": 2,
   "metadata": {},
   "outputs": [],
   "source": [
    "from sklearn.decomposition import PCA\n",
    "from sklearn.decomposition import IncrementalPCA\n",
    "pca_model = PCA(n_components=20, copy=True, whiten=False, svd_solver='auto', \n",
    "            tol=0.0, iterated_power='auto', random_state=None)\n",
    "IPCA_model = IncrementalPCA(batch_size=30)"
   ]
  },
  {
   "cell_type": "markdown",
   "metadata": {},
   "source": [
    "# load data"
   ]
  },
  {
   "cell_type": "code",
   "execution_count": 3,
   "metadata": {},
   "outputs": [],
   "source": [
    "NC_file_path = \"/Volumes/耳鼻喉陈军/1dataset/gz_NC\"\n",
    "\n",
    "AD_file_path = \"/Volumes/耳鼻喉陈军/1dataset/gz_AD\""
   ]
  },
  {
   "cell_type": "code",
   "execution_count": 4,
   "metadata": {},
   "outputs": [],
   "source": [
    "AD_name = os.listdir(AD_file_path)\n",
    "\n",
    "AD_name.remove('4D_original')\n",
    "\n",
    "NC_name = os.listdir(NC_file_path)\n",
    "NC_name.remove('4D_original')\n",
    "\n",
    "total = AD_name + NC_name"
   ]
  },
  {
   "cell_type": "markdown",
   "metadata": {},
   "source": [
    "# read data + pca + connecting all subject"
   ]
  },
  {
   "cell_type": "code",
   "execution_count": 7,
   "metadata": {},
   "outputs": [],
   "source": [
    "def first_reduce(subjects):\n",
    "    reduce_dimension = list()\n",
    "    for i in range(len(subjects)):\n",
    "        if i < len(AD_name):\n",
    "            file = nib.load(AD_file_path + \"/\" + subjects[i])\n",
    "        else:\n",
    "            file = nib.load(NC_file_path + \"/\" + subjects[i])\n",
    "            \n",
    "        data = file.get_data()\n",
    "\n",
    "        data = data.transpose(3,0,1,2)\n",
    "\n",
    "        figure = td.images.fromarray(data).gaussian_filter(sigma=6, order=0)\n",
    "\n",
    "        input_array = figure.toseries().flatten().normalize(method='mean', window=None, offset=0.1).toarray()\n",
    "\n",
    "\n",
    "        after_pca = pca_model.fit_transform(input_array)\n",
    "        print(after_pca.shape)\n",
    "        reduce_dimension.append(pca_model.components_)\n",
    "\n",
    "        if i == 0:\n",
    "            total_input = after_pca\n",
    "        else:\n",
    "            total_input = np.hstack((total_input,after_pca))\n",
    "    return total_input,reduce_dimension\n"
   ]
  },
  {
   "cell_type": "code",
   "execution_count": null,
   "metadata": {},
   "outputs": [],
   "source": [
    "total_input,reduce_dimension = first_reduce(total)"
   ]
  },
  {
   "cell_type": "code",
   "execution_count": 9,
   "metadata": {},
   "outputs": [
    {
     "data": {
      "text/plain": [
       "(196608, 2320)"
      ]
     },
     "execution_count": 9,
     "metadata": {},
     "output_type": "execute_result"
    }
   ],
   "source": [
    "total_input.shape"
   ]
  },
  {
   "cell_type": "code",
   "execution_count": 11,
   "metadata": {},
   "outputs": [
    {
     "data": {
      "text/plain": [
       "(20, 140)"
      ]
     },
     "execution_count": 11,
     "metadata": {},
     "output_type": "execute_result"
    }
   ],
   "source": [
    "reduce_dimension[0].shape"
   ]
  },
  {
   "cell_type": "code",
   "execution_count": 256,
   "metadata": {},
   "outputs": [
    {
     "data": {
      "text/plain": [
       "116"
      ]
     },
     "execution_count": 256,
     "metadata": {},
     "output_type": "execute_result"
    }
   ],
   "source": [
    "len(reduce_dimension)"
   ]
  },
  {
   "cell_type": "markdown",
   "metadata": {},
   "source": [
    "# group PCA"
   ]
  },
  {
   "cell_type": "code",
   "execution_count": 296,
   "metadata": {},
   "outputs": [
    {
     "name": "stderr",
     "output_type": "stream",
     "text": [
      "/Users/tianyichen/anaconda3/lib/python3.7/site-packages/sklearn/decomposition/incremental_pca.py:294: RuntimeWarning: Mean of empty slice.\n",
      "  explained_variance[self.n_components_:].mean()\n",
      "/Users/tianyichen/anaconda3/lib/python3.7/site-packages/numpy/core/_methods.py:85: RuntimeWarning: invalid value encountered in double_scalars\n",
      "  ret = ret.dtype.type(ret / rcount)\n"
     ]
    }
   ],
   "source": [
    "group_PCA = IPCA_model.fit_transform(total_input)"
   ]
  },
  {
   "cell_type": "code",
   "execution_count": 297,
   "metadata": {},
   "outputs": [
    {
     "data": {
      "text/plain": [
       "(196608, 30)"
      ]
     },
     "execution_count": 297,
     "metadata": {},
     "output_type": "execute_result"
    }
   ],
   "source": [
    "group_PCA.shape"
   ]
  },
  {
   "cell_type": "code",
   "execution_count": 298,
   "metadata": {},
   "outputs": [
    {
     "data": {
      "text/plain": [
       "(30, 2320)"
      ]
     },
     "execution_count": 298,
     "metadata": {},
     "output_type": "execute_result"
    }
   ],
   "source": [
    "reduce_matrix = IPCA_model.components_\n",
    "reduce_matrix.shape"
   ]
  },
  {
   "cell_type": "markdown",
   "metadata": {},
   "source": [
    "# try another method (poor performance)"
   ]
  },
  {
   "cell_type": "code",
   "execution_count": 237,
   "metadata": {},
   "outputs": [],
   "source": [
    "model = PCA(n_components=90, copy=True, whiten=False, svd_solver='auto', \n",
    "            tol=0.0, iterated_power='auto', random_state=None)\n",
    "try_pratial = []\n",
    "\n",
    "for i in range(4):\n",
    "    if i ==0:\n",
    "        index = 0\n",
    "    else:\n",
    "        index = i+580\n",
    "    partial = total_input[:,index:index+580]\n",
    "    array = model.fit_transform(partial)\n",
    "    reduce_try = model.components_\n",
    "    \n",
    "    try_pratial.append(reduce_try)\n",
    "    if i ==0:\n",
    "        result_partial = array\n",
    "    else:\n",
    "        result_partial = np.hstack((result_partial,array))"
   ]
  },
  {
   "cell_type": "code",
   "execution_count": 251,
   "metadata": {},
   "outputs": [
    {
     "data": {
      "text/plain": [
       "(196608, 360)"
      ]
     },
     "execution_count": 251,
     "metadata": {},
     "output_type": "execute_result"
    }
   ],
   "source": [
    "result_partial.shape"
   ]
  },
  {
   "cell_type": "code",
   "execution_count": 255,
   "metadata": {},
   "outputs": [
    {
     "data": {
      "text/plain": [
       "4"
      ]
     },
     "execution_count": 255,
     "metadata": {},
     "output_type": "execute_result"
    }
   ],
   "source": [
    "len(try_pratial)"
   ]
  },
  {
   "cell_type": "code",
   "execution_count": 252,
   "metadata": {},
   "outputs": [],
   "source": [
    "from sklearn.decomposition import FastICA\n",
    "transformer = FastICA(n_components=30, algorithm='parallel', whiten=True, \n",
    "                      fun='logcosh', fun_args=None, max_iter=2000, tol=0.0001, w_init=None, random_state=None)\n",
    "\n",
    "test_fast = transformer.fit(result_partial)\n",
    "\n",
    "mixing_matrix = test_fast.mixing_\n",
    "mixing_matrix.shape\n",
    "\n",
    "unmixing_matrix = test_fast.components_\n",
    "unmixing_matrix.shape\n",
    "\n",
    "output = test_fast.transform(result_partial)"
   ]
  },
  {
   "cell_type": "code",
   "execution_count": 254,
   "metadata": {},
   "outputs": [
    {
     "data": {
      "text/plain": [
       "(90, 360)"
      ]
     },
     "execution_count": 254,
     "metadata": {},
     "output_type": "execute_result"
    }
   ],
   "source": [
    "unmixing_matrix.shape"
   ]
  },
  {
   "cell_type": "code",
   "execution_count": 266,
   "metadata": {},
   "outputs": [
    {
     "data": {
      "text/plain": [
       "(90, 20)"
      ]
     },
     "execution_count": 266,
     "metadata": {},
     "output_type": "execute_result"
    }
   ],
   "source": [
    "try_pratial[3][:,0:20].shape"
   ]
  },
  {
   "cell_type": "code",
   "execution_count": 280,
   "metadata": {},
   "outputs": [],
   "source": [
    "feature_vector=[]\n",
    "time_pca = PCA(n_components=30, copy=True, whiten=False, svd_solver='auto', \n",
    "            tol=0.0, iterated_power='auto', random_state=None)\n",
    "for i in range(4):\n",
    "    if i == 0:\n",
    "        index1 = i\n",
    "    else:\n",
    "        index1 = index1+90\n",
    "    partial_time = unmixing_matrix[:,index1:index1+90]\n",
    "    \n",
    "    for j in range(29):\n",
    " \n",
    "        reduce2 = try_pratial[i][:,(j*20):(20*j+20)]\n",
    "       \n",
    "        s = np.dot(partial_time,reduce2)\n",
    "        ss = np.dot(s,reduce_dimension[i*j+j])\n",
    "        \n",
    "        inputs = time_pca.fit_transform(ss.T)\n",
    "        inputs = inputs.T\n",
    "        spartial_series = td.series.fromarray(inputs)\n",
    "        cross_list = list()\n",
    "        for k in range(30):\n",
    "            for m in range(k+1,30):\n",
    "\n",
    "                cross = spartial_series[k].crosscorr(spartial_series[m]).toarray().tolist()\n",
    "\n",
    "                cross_list.append(cross)\n",
    "\n",
    "        feature_vector.append(cross_list)"
   ]
  },
  {
   "cell_type": "code",
   "execution_count": 281,
   "metadata": {},
   "outputs": [
    {
     "data": {
      "text/plain": [
       "116"
      ]
     },
     "execution_count": 281,
     "metadata": {},
     "output_type": "execute_result"
    }
   ],
   "source": [
    "len(feature_vector)"
   ]
  },
  {
   "cell_type": "markdown",
   "metadata": {},
   "source": [
    "# groupICA "
   ]
  },
  {
   "cell_type": "code",
   "execution_count": 299,
   "metadata": {},
   "outputs": [],
   "source": [
    "from sklearn.decomposition import FastICA\n",
    "transformer = FastICA(n_components=30, algorithm='parallel', whiten=True, \n",
    "                      fun='logcosh', fun_args=None, max_iter=2000, tol=0.0001, w_init=None, random_state=None)\n",
    "\n",
    "test_fast = transformer.fit(group_PCA)\n",
    "\n",
    "mixing_matrix = test_fast.mixing_\n",
    "mixing_matrix.shape\n",
    "\n",
    "unmixing_matrix = test_fast.components_\n",
    "unmixing_matrix.shape\n",
    "\n",
    "output = test_fast.transform(group_PCA)"
   ]
  },
  {
   "cell_type": "code",
   "execution_count": 300,
   "metadata": {},
   "outputs": [
    {
     "data": {
      "text/plain": [
       "(196608, 30)"
      ]
     },
     "execution_count": 300,
     "metadata": {},
     "output_type": "execute_result"
    }
   ],
   "source": [
    "output.shape"
   ]
  },
  {
   "cell_type": "markdown",
   "metadata": {},
   "source": [
    "# data reconstruction"
   ]
  },
  {
   "cell_type": "code",
   "execution_count": 301,
   "metadata": {},
   "outputs": [
    {
     "data": {
      "text/plain": [
       "Series\n",
       "mode: local\n",
       "dtype: float64\n",
       "shape: (30, 2320)"
      ]
     },
     "execution_count": 301,
     "metadata": {},
     "output_type": "execute_result"
    }
   ],
   "source": [
    "reconst_series = td.series.fromarray(reduce_matrix)\n",
    "reconst_series"
   ]
  },
  {
   "cell_type": "code",
   "execution_count": 370,
   "metadata": {},
   "outputs": [],
   "source": [
    "time_course = list()\n",
    "feature_vector = list()\n",
    "def reconstruction(reduce1,reduce2):\n",
    "    for i in range(len(total)):\n",
    "        if i ==0:\n",
    "            limit = i\n",
    "        else:\n",
    "            limit = limit+20\n",
    "        s = np.dot(unmixing_matrix,reduce2.between(limit,limit+20).toarray())\n",
    "        ss = np.dot(s,reduce1[i])\n",
    "        time_course.append(ss)\n",
    "        spartial_series = td.series.fromarray(ss)\n",
    "        cross_list = list()\n",
    "        for i in range(30):\n",
    "            for j in range(i+1,30):\n",
    "\n",
    "                cross = spartial_series[i].crosscorr(spartial_series[j]).toarray().tolist()\n",
    "\n",
    "                cross_list.append(cross)\n",
    "\n",
    "        feature_vector.append(cross_list)\n",
    "    return feature_vector,time_course"
   ]
  },
  {
   "cell_type": "code",
   "execution_count": 371,
   "metadata": {},
   "outputs": [],
   "source": [
    "feature_vector,time_course = reconstruction(reduce_dimension,reconst_series)"
   ]
  },
  {
   "cell_type": "markdown",
   "metadata": {},
   "source": [
    "# labelling"
   ]
  },
  {
   "cell_type": "code",
   "execution_count": 495,
   "metadata": {},
   "outputs": [],
   "source": [
    "label = list()\n",
    "for i in range(len(total)):\n",
    "    if i<58:\n",
    "        label.append(1)\n",
    "    else:\n",
    "        label.append(-1)"
   ]
  },
  {
   "cell_type": "code",
   "execution_count": 496,
   "metadata": {},
   "outputs": [],
   "source": [
    "#把统一处理的数据分为测试集和训练集\n",
    "\n",
    "from sklearn import svm\n",
    "from sklearn.metrics import accuracy_score\n",
    "\n",
    "from sklearn.model_selection import train_test_split\n",
    "from sklearn.preprocessing import StandardScaler\n",
    "from sklearn import preprocessing\n",
    "from sklearn import metrics\n",
    "from random import sample\n",
    "\n",
    "from sklearn.model_selection import cross_val_score\n",
    "from sklearn.model_selection import LeaveOneOut\n",
    "\n",
    "\n",
    "#data_train,data_test,label_train,label_test = train_test_split(feature_vector, label, train_size=0.85, test_size = 0.15)"
   ]
  },
  {
   "cell_type": "markdown",
   "metadata": {},
   "source": [
    "# Three classification method"
   ]
  },
  {
   "cell_type": "markdown",
   "metadata": {},
   "source": [
    "# SVM"
   ]
  },
  {
   "cell_type": "code",
   "execution_count": 563,
   "metadata": {},
   "outputs": [],
   "source": [
    "whole_pred = list()\n",
    "whole_test = list()\n",
    "svm_accuracy_list = list()\n",
    "for i in range(20):\n",
    "    data_train,data_test,label_train,label_test = train_test_split(feature_vector, label, train_size=0.75, test_size = 0.25,random_state = i*10)\n",
    "    clf = svm.SVC(C=1.0, kernel='linear', decision_function_shape='ovr')\n",
    "    clf.fit(np.array(data_train), label_train)\n",
    "    y_pred = clf.predict(np.array(data_test))\n",
    "    #print(metrics.accuracy_score(label_test,y_pred)) \n",
    "    svm_accuracy_list.append(metrics.accuracy_score(label_test,y_pred))\n",
    "    whole_pred.extend(y_pred)\n",
    "    whole_test.extend(label_test)\n",
    "#loo = LeaveOneOut()\n",
    "\n",
    "#y_pred = np.zeros(np.array(label).shape)\n",
    "#for train, test in loo.split(feature_vector):\n",
    "    \n",
    "    #clf.fit(np.array(feature_vector)[train], np.array(label)[train])\n",
    "    #y_pred[test] = clf.predict(np.array(feature_vector)[test])\n",
    "\n",
    "#y_pred = clf.predict(data_test)\n",
    "\n",
    "#print(\"Accuracy:\",metrics.accuracy_score(label,y_pred))    "
   ]
  },
  {
   "cell_type": "code",
   "execution_count": 564,
   "metadata": {},
   "outputs": [
    {
     "data": {
      "text/plain": [
       "0.7241379310344828"
      ]
     },
     "execution_count": 564,
     "metadata": {},
     "output_type": "execute_result"
    }
   ],
   "source": [
    "metrics.accuracy_score(np.array(whole_pred),np.array(whole_test))"
   ]
  },
  {
   "cell_type": "code",
   "execution_count": 535,
   "metadata": {},
   "outputs": [
    {
     "name": "stdout",
     "output_type": "stream",
     "text": [
      "the classification report:\n",
      "              precision    recall  f1-score   support\n",
      "\n",
      "          -1     0.7313    0.7264    0.7288       296\n",
      "           1     0.7168    0.7218    0.7193       284\n",
      "\n",
      "   micro avg     0.7241    0.7241    0.7241       580\n",
      "   macro avg     0.7240    0.7241    0.7241       580\n",
      "weighted avg     0.7242    0.7241    0.7242       580\n",
      "\n",
      "the confusion matrix:\n",
      "[[215  81]\n",
      " [ 79 205]]\n",
      "0.7167832167832168\n",
      "0.721830985915493\n"
     ]
    }
   ],
   "source": [
    "from sklearn.metrics import precision_score  \n",
    "from sklearn.metrics import recall_score \n",
    "print(\"the classification report:\")  \n",
    "\n",
    "print(metrics.classification_report(whole_test,whole_pred,digits = 4))\n",
    "print(\"the confusion matrix:\")  \n",
    "\n",
    "print(metrics.confusion_matrix(whole_test,whole_pred))\n",
    "\n",
    "print(precision_score(whole_test, whole_pred))\n",
    "print(recall_score(whole_test, whole_pred))"
   ]
  },
  {
   "cell_type": "code",
   "execution_count": 525,
   "metadata": {},
   "outputs": [],
   "source": [
    "tn, fp, fn, tp = metrics.confusion_matrix(whole_test,whole_pred).ravel()"
   ]
  },
  {
   "cell_type": "code",
   "execution_count": 531,
   "metadata": {},
   "outputs": [
    {
     "name": "stdout",
     "output_type": "stream",
     "text": [
      "215 81 79 205\n"
     ]
    }
   ],
   "source": [
    "print(tn, fp, fn, tp)"
   ]
  },
  {
   "cell_type": "code",
   "execution_count": 565,
   "metadata": {},
   "outputs": [],
   "source": [
    "final_accuracy1 = np.mean(svm_accuracy_list)"
   ]
  },
  {
   "cell_type": "code",
   "execution_count": 566,
   "metadata": {},
   "outputs": [
    {
     "data": {
      "text/plain": [
       "0.7241379310344828"
      ]
     },
     "execution_count": 566,
     "metadata": {},
     "output_type": "execute_result"
    }
   ],
   "source": [
    "final_accuracy1"
   ]
  },
  {
   "cell_type": "code",
   "execution_count": 567,
   "metadata": {},
   "outputs": [],
   "source": [
    "final_accuracy2 = np.std(svm_accuracy_list)"
   ]
  },
  {
   "cell_type": "code",
   "execution_count": 568,
   "metadata": {},
   "outputs": [
    {
     "data": {
      "text/plain": [
       "0.04997026464203254"
      ]
     },
     "execution_count": 568,
     "metadata": {},
     "output_type": "execute_result"
    }
   ],
   "source": [
    "final_accuracy2"
   ]
  },
  {
   "cell_type": "code",
   "execution_count": 569,
   "metadata": {},
   "outputs": [
    {
     "data": {
      "text/plain": [
       "[0.7931034482758621,\n",
       " 0.6551724137931034,\n",
       " 0.7931034482758621,\n",
       " 0.7241379310344828,\n",
       " 0.6896551724137931,\n",
       " 0.8275862068965517,\n",
       " 0.6206896551724138,\n",
       " 0.7241379310344828,\n",
       " 0.6896551724137931,\n",
       " 0.7241379310344828,\n",
       " 0.7241379310344828,\n",
       " 0.7241379310344828,\n",
       " 0.6896551724137931,\n",
       " 0.7241379310344828,\n",
       " 0.6896551724137931,\n",
       " 0.6896551724137931,\n",
       " 0.6896551724137931,\n",
       " 0.7586206896551724,\n",
       " 0.7586206896551724,\n",
       " 0.7931034482758621]"
      ]
     },
     "execution_count": 569,
     "metadata": {},
     "output_type": "execute_result"
    }
   ],
   "source": [
    "svm_accuracy_list"
   ]
  },
  {
   "cell_type": "markdown",
   "metadata": {},
   "source": [
    "# logistic regression"
   ]
  },
  {
   "cell_type": "code",
   "execution_count": 570,
   "metadata": {},
   "outputs": [],
   "source": [
    "\n",
    "log_result = list()\n",
    "log_whole_test = list()\n",
    "log_whole_pred = list()\n",
    "from sklearn.linear_model import LogisticRegression\n",
    "\n",
    "logreg=LogisticRegression(penalty='l2', dual=False, \n",
    "    tol=0.00001, C=1.0, fit_intercept=True, \n",
    "    intercept_scaling=1, class_weight=None, \n",
    "    random_state=9, solver='warn', max_iter=100,\n",
    "    multi_class='warn', verbose=0, \n",
    "    warm_start=False, n_jobs=None)\n",
    "\n",
    "for i in range(20):\n",
    "    data_train,data_test,label_train,label_test = train_test_split(feature_vector, label, train_size=0.75, test_size = 0.25,random_state = i*10)\n",
    "    \n",
    "    logreg.fit(np.array(data_train), label_train)\n",
    "    log_prediction = logreg.predict(np.array(data_test))\n",
    "    #print(metrics.accuracy_score(label_test,log_prediction)) \n",
    "    log_result.append(metrics.accuracy_score(label_test,log_prediction))\n",
    "    log_whole_test.extend(label_test)\n",
    "    log_whole_pred.extend(log_prediction)"
   ]
  },
  {
   "cell_type": "code",
   "execution_count": 571,
   "metadata": {},
   "outputs": [
    {
     "name": "stdout",
     "output_type": "stream",
     "text": [
      "the classification report:\n",
      "              precision    recall  f1-score   support\n",
      "\n",
      "          -1     0.7348    0.6926    0.7130       296\n",
      "           1     0.6977    0.7394    0.7179       284\n",
      "\n",
      "   micro avg     0.7155    0.7155    0.7155       580\n",
      "   macro avg     0.7162    0.7160    0.7155       580\n",
      "weighted avg     0.7166    0.7155    0.7154       580\n",
      "\n",
      "the confusion matrix:\n",
      "[[205  91]\n",
      " [ 74 210]]\n"
     ]
    }
   ],
   "source": [
    "print(\"the classification report:\")  \n",
    "\n",
    "print(metrics.classification_report(log_whole_test,log_whole_pred,digits = 4))\n",
    "print(\"the confusion matrix:\")  \n",
    "\n",
    "print(metrics.confusion_matrix(log_whole_test,log_whole_pred))"
   ]
  },
  {
   "cell_type": "code",
   "execution_count": 572,
   "metadata": {},
   "outputs": [
    {
     "name": "stdout",
     "output_type": "stream",
     "text": [
      "205 91 74 210\n"
     ]
    }
   ],
   "source": [
    "tn, fp, fn, tp = metrics.confusion_matrix(log_whole_test,log_whole_pred).ravel()\n",
    "print(tn, fp, fn, tp)"
   ]
  },
  {
   "cell_type": "code",
   "execution_count": 573,
   "metadata": {},
   "outputs": [
    {
     "data": {
      "text/plain": [
       "0.7155172413793103"
      ]
     },
     "execution_count": 573,
     "metadata": {},
     "output_type": "execute_result"
    }
   ],
   "source": [
    "np.mean(log_result)"
   ]
  },
  {
   "cell_type": "code",
   "execution_count": 574,
   "metadata": {},
   "outputs": [
    {
     "data": {
      "text/plain": [
       "0.0565296424508793"
      ]
     },
     "execution_count": 574,
     "metadata": {},
     "output_type": "execute_result"
    }
   ],
   "source": [
    "np.std(log_result)"
   ]
  },
  {
   "cell_type": "code",
   "execution_count": 575,
   "metadata": {},
   "outputs": [
    {
     "data": {
      "text/plain": [
       "[0.7931034482758621,\n",
       " 0.6206896551724138,\n",
       " 0.7586206896551724,\n",
       " 0.6551724137931034,\n",
       " 0.6896551724137931,\n",
       " 0.8275862068965517,\n",
       " 0.6206896551724138,\n",
       " 0.7241379310344828,\n",
       " 0.6896551724137931,\n",
       " 0.7241379310344828,\n",
       " 0.7241379310344828,\n",
       " 0.6896551724137931,\n",
       " 0.6896551724137931,\n",
       " 0.6896551724137931,\n",
       " 0.6896551724137931,\n",
       " 0.6896551724137931,\n",
       " 0.6896551724137931,\n",
       " 0.7586206896551724,\n",
       " 0.7586206896551724,\n",
       " 0.8275862068965517]"
      ]
     },
     "execution_count": 575,
     "metadata": {},
     "output_type": "execute_result"
    }
   ],
   "source": [
    "log_result"
   ]
  },
  {
   "cell_type": "markdown",
   "metadata": {},
   "source": [
    "# Naive Bayes"
   ]
  },
  {
   "cell_type": "code",
   "execution_count": 577,
   "metadata": {},
   "outputs": [],
   "source": [
    "gnb_test = list()\n",
    "gnb_pred = list()\n",
    "gnb_result = list()\n",
    "from sklearn.naive_bayes import GaussianNB\n",
    "gnb = GaussianNB()\n",
    "for i in range(20):\n",
    "    data_train,data_test,label_train,label_test = train_test_split(feature_vector, label, train_size=0.75, test_size = 0.25,random_state = i*10)\n",
    "    bayes_pred = gnb.fit(np.array(data_train), label_train).predict(data_test)\n",
    "    gnb_test.extend(label_test)\n",
    "    gnb_pred.extend(bayes_pred)\n",
    "    gnb_result.append(metrics.accuracy_score(label_test,bayes_pred))\n",
    "    \n",
    "    \n",
    "    "
   ]
  },
  {
   "cell_type": "code",
   "execution_count": 578,
   "metadata": {},
   "outputs": [
    {
     "name": "stdout",
     "output_type": "stream",
     "text": [
      "the classification report:\n",
      "              precision    recall  f1-score   support\n",
      "\n",
      "          -1     0.6958    0.6182    0.6547       296\n",
      "           1     0.6435    0.7183    0.6789       284\n",
      "\n",
      "   micro avg     0.6672    0.6672    0.6672       580\n",
      "   macro avg     0.6697    0.6683    0.6668       580\n",
      "weighted avg     0.6702    0.6672    0.6666       580\n",
      "\n",
      "the confusion matrix:\n",
      "[[183 113]\n",
      " [ 80 204]]\n"
     ]
    }
   ],
   "source": [
    "print(\"the classification report:\")  \n",
    "\n",
    "print(metrics.classification_report(gnb_test,gnb_pred,digits = 4))\n",
    "print(\"the confusion matrix:\")  \n",
    "\n",
    "print(metrics.confusion_matrix(gnb_test,gnb_pred))"
   ]
  },
  {
   "cell_type": "code",
   "execution_count": 579,
   "metadata": {},
   "outputs": [
    {
     "name": "stdout",
     "output_type": "stream",
     "text": [
      "183 113 80 204\n"
     ]
    }
   ],
   "source": [
    "tn, fp, fn, tp = metrics.confusion_matrix(gnb_test,gnb_pred).ravel()\n",
    "print(tn, fp, fn, tp)"
   ]
  },
  {
   "cell_type": "code",
   "execution_count": 580,
   "metadata": {},
   "outputs": [
    {
     "data": {
      "text/plain": [
       "[0.6551724137931034,\n",
       " 0.5172413793103449,\n",
       " 0.6896551724137931,\n",
       " 0.6896551724137931,\n",
       " 0.6206896551724138,\n",
       " 0.7241379310344828,\n",
       " 0.5517241379310345,\n",
       " 0.7931034482758621,\n",
       " 0.7931034482758621,\n",
       " 0.6896551724137931,\n",
       " 0.6206896551724138,\n",
       " 0.7241379310344828,\n",
       " 0.7241379310344828,\n",
       " 0.6206896551724138,\n",
       " 0.6551724137931034,\n",
       " 0.5517241379310345,\n",
       " 0.6551724137931034,\n",
       " 0.7241379310344828,\n",
       " 0.6551724137931034,\n",
       " 0.6896551724137931]"
      ]
     },
     "execution_count": 580,
     "metadata": {},
     "output_type": "execute_result"
    }
   ],
   "source": [
    "gnb_result"
   ]
  },
  {
   "cell_type": "code",
   "execution_count": 581,
   "metadata": {},
   "outputs": [
    {
     "data": {
      "text/plain": [
       "0.6672413793103448"
      ]
     },
     "execution_count": 581,
     "metadata": {},
     "output_type": "execute_result"
    }
   ],
   "source": [
    "np.mean(gnb_result)"
   ]
  },
  {
   "cell_type": "code",
   "execution_count": 582,
   "metadata": {},
   "outputs": [
    {
     "data": {
      "text/plain": [
       "0.07173325538867147"
      ]
     },
     "execution_count": 582,
     "metadata": {},
     "output_type": "execute_result"
    }
   ],
   "source": [
    "np.std(gnb_result)"
   ]
  },
  {
   "cell_type": "markdown",
   "metadata": {},
   "source": [
    "# 画ROC曲线"
   ]
  },
  {
   "cell_type": "markdown",
   "metadata": {},
   "source": [
    "# The ROC curve of SVM"
   ]
  },
  {
   "cell_type": "code",
   "execution_count": 562,
   "metadata": {},
   "outputs": [
    {
     "name": "stderr",
     "output_type": "stream",
     "text": [
      "/Users/tianyichen/anaconda3/lib/python3.7/site-packages/matplotlib/figure.py:445: UserWarning: Matplotlib is currently using agg, which is a non-GUI backend, so cannot show the figure.\n",
      "  % get_backend())\n"
     ]
    },
    {
     "data": {
      "image/png": "[encoded data removed]",
      "text/plain": [
       "<Figure size 432x288 with 1 Axes>"
      ]
     },
     "metadata": {
      "needs_background": "light"
     },
     "output_type": "display_data"
    }
   ],
   "source": [
    "import numpy as np\n",
    "import matplotlib.pyplot as plt\n",
    "from sklearn import svm, datasets\n",
    "from sklearn.metrics import roc_curve, auc\n",
    "from sklearn.model_selection import StratifiedKFold\n",
    "from scipy import interp\n",
    "#fpr, tpr, thresholds= sklearn.metrics.roc_curve(whole_test,whole_pred,pos_label=1,sample_weight=None, drop_intermediate=True)\n",
    "\n",
    "fprs = []\n",
    "tprs = []\n",
    "AUCs = []\n",
    "accuracy_list = list()\n",
    "mean_fpr = np.linspace(0, 1, len(total))\n",
    "\n",
    "for i in range(20):\n",
    "    data_train,data_test,label_train,label_test = train_test_split(feature_vector, label, train_size=0.75, test_size = 0.25,random_state = i*10)\n",
    "    clf = svm.SVC(C=1.0, kernel='linear', decision_function_shape='ovr',probability = True)\n",
    "    clf.fit(np.array(data_train), label_train)\n",
    "    y_prob = clf.predict_proba(np.array(data_test))\n",
    "    fpr, tpr, thresholds = roc_curve(label_test, y_prob[:, 1])\n",
    "    tprs.append(interp(mean_fpr, fpr, tpr))\n",
    "    tprs[-1][0] = 0.0\n",
    "    roc_auc = auc(fpr,tpr)\n",
    "    AUCs.append(roc_auc)\n",
    "    plt.plot(fpr, tpr, lw=1, alpha=0.3, label='ROC fold %d (AUC = %0.2f)' % (i, roc_auc))\n",
    "    \n",
    "plt.plot([0, 1], [0, 1], linestyle='--', lw=2, color='r', label='Chance', alpha=.8)\n",
    "\n",
    "mean_tpr = np.mean(tprs, axis=0)\n",
    "mean_tpr[-1] = 1.0\n",
    "mean_auc = auc(mean_fpr, mean_tpr)\n",
    "std_auc = np.std(aucs)\n",
    "#plt.plot(mean_fpr, mean_tpr, color='b',\n",
    "         #label=r'Mean ROC (AUC = %0.2f $\\pm$ %0.2f)'% (mean_auc, std_auc),\n",
    "         #lw=2, alpha=.8)\n",
    "plt.plot(mean_fpr, mean_tpr, color='b',\n",
    "         label='Mean ROC ',lw=2)\n",
    "plt.xlim([-0.05,1.05])\n",
    "plt.ylim([-0.05,1.05])\n",
    "plt.xlabel('False positive rate')\n",
    "plt.ylabel('True positive rate')\n",
    "plt.show()"
   ]
  },
  {
   "cell_type": "code",
   "execution_count": 552,
   "metadata": {},
   "outputs": [
    {
     "data": {
      "text/plain": [
       "array([1.87414992, 0.87414992, 0.46260889, 0.45882262, 0.32841922,\n",
       "       0.29914157, 0.29560444, 0.10151658, 0.06172676])"
      ]
     },
     "execution_count": 552,
     "metadata": {},
     "output_type": "execute_result"
    }
   ],
   "source": [
    "thresholds"
   ]
  },
  {
   "cell_type": "code",
   "execution_count": 322,
   "metadata": {},
   "outputs": [
    {
     "data": {
      "text/plain": [
       "0.7782709078006393"
      ]
     },
     "execution_count": 322,
     "metadata": {},
     "output_type": "execute_result"
    }
   ],
   "source": [
    "mean_auc"
   ]
  },
  {
   "cell_type": "markdown",
   "metadata": {},
   "source": [
    "# The ROC of logistic regression"
   ]
  },
  {
   "cell_type": "code",
   "execution_count": 547,
   "metadata": {},
   "outputs": [
    {
     "data": {
      "text/plain": [
       "[<matplotlib.lines.Line2D at 0x1c2a4d2c50>]"
      ]
     },
     "execution_count": 547,
     "metadata": {},
     "output_type": "execute_result"
    },
    {
     "data": {
      "image/png": "[encoded data removed]",
      "text/plain": [
       "<Figure size 432x288 with 1 Axes>"
      ]
     },
     "metadata": {
      "needs_background": "light"
     },
     "output_type": "display_data"
    }
   ],
   "source": [
    "\n",
    "# import warnings filter\n",
    "from warnings import simplefilter\n",
    "# ignore all future warnings\n",
    "simplefilter(action='ignore', category=FutureWarning)\n",
    "for i in range(20):\n",
    "    data_train,data_test,label_train,label_test = train_test_split(feature_vector, label, train_size=0.75, test_size = 0.25,random_state = i*10)\n",
    "    \n",
    "    logreg.fit(np.array(data_train), label_train)\n",
    "    log_prediction = logreg.decision_function(np.array(data_test))\n",
    "    #print(metrics.accuracy_score(label_test,log_prediction)) \n",
    "    fpr, tpr, thresholds = roc_curve(label_test, log_prediction)\n",
    "    tprs.append(interp(mean_fpr, fpr, tpr))\n",
    "    tprs[-1][0] = 0.0\n",
    "    roc_auc = auc(fpr,tpr)\n",
    "    AUCs.append(roc_auc)\n",
    "    plt.plot(fpr, tpr, lw=1, alpha=0.3, label='ROC fold %d (AUC = %0.2f)' % (i, roc_auc))\n",
    "    \n",
    "plt.plot([0, 1], [0, 1], linestyle='--', lw=2, color='r', label='Chance', alpha=.8)\n",
    "\n",
    "mean_tpr = np.mean(tprs, axis=0)\n",
    "mean_tpr[-1] = 1.0\n",
    "mean_auc = auc(mean_fpr, mean_tpr)\n",
    "std_auc = np.std(aucs)\n",
    "plt.plot(mean_fpr, mean_tpr, color='b',\n",
    "         label=r'Mean ROC (AUC = %0.2f $\\pm$ %0.2f)'% (mean_auc, std_auc),\n",
    "         lw=2, alpha=.8)"
   ]
  },
  {
   "cell_type": "code",
   "execution_count": 541,
   "metadata": {},
   "outputs": [
    {
     "data": {
      "text/plain": [
       "0.7760217282539852"
      ]
     },
     "execution_count": 541,
     "metadata": {},
     "output_type": "execute_result"
    }
   ],
   "source": [
    "mean_auc"
   ]
  },
  {
   "cell_type": "markdown",
   "metadata": {},
   "source": [
    "# data vilization for the preprocess"
   ]
  },
  {
   "cell_type": "code",
   "execution_count": 351,
   "metadata": {},
   "outputs": [],
   "source": [
    "file = nib.load(AD_file_path + \"/\" + total[6])\n",
    "data = file.get_data()\n",
    "\n",
    "data = data.transpose(3,0,1,2)\n",
    "\n",
    "figure = td.images.fromarray(data)"
   ]
  },
  {
   "cell_type": "code",
   "execution_count": 352,
   "metadata": {},
   "outputs": [
    {
     "data": {
      "text/plain": [
       "Images\n",
       "mode: local\n",
       "dtype: float64\n",
       "shape: (140, 64, 64, 48)"
      ]
     },
     "execution_count": 352,
     "metadata": {},
     "output_type": "execute_result"
    }
   ],
   "source": [
    "figure"
   ]
  },
  {
   "cell_type": "code",
   "execution_count": 356,
   "metadata": {},
   "outputs": [
    {
     "data": {
      "text/plain": [
       "(64, 64, 48)"
      ]
     },
     "execution_count": 356,
     "metadata": {},
     "output_type": "execute_result"
    }
   ],
   "source": [
    "figure[0].toarray().shape"
   ]
  },
  {
   "cell_type": "code",
   "execution_count": 363,
   "metadata": {},
   "outputs": [
    {
     "data": {
      "text/plain": [
       "<matplotlib.image.AxesImage at 0x1c52503ba8>"
      ]
     },
     "execution_count": 363,
     "metadata": {},
     "output_type": "execute_result"
    },
    {
     "data": {
      "image/png": "[encoded data removed]",
      "text/plain": [
       "<Figure size 360x360 with 1 Axes>"
      ]
     },
     "metadata": {
      "needs_background": "light"
     },
     "output_type": "display_data"
    }
   ],
   "source": [
    "image(figure[50,:,:,32].toarray(), size = 5)"
   ]
  },
  {
   "cell_type": "code",
   "execution_count": 368,
   "metadata": {},
   "outputs": [],
   "source": [
    "smooth = figure.gaussian_filter(sigma=2, order=0)"
   ]
  },
  {
   "cell_type": "code",
   "execution_count": 369,
   "metadata": {},
   "outputs": [
    {
     "data": {
      "text/plain": [
       "<matplotlib.image.AxesImage at 0x1c21e3e748>"
      ]
     },
     "execution_count": 369,
     "metadata": {},
     "output_type": "execute_result"
    },
    {
     "data": {
      "image/png": "[encoded data removed]",
      "text/plain": [
       "<Figure size 360x360 with 1 Axes>"
      ]
     },
     "metadata": {
      "needs_background": "light"
     },
     "output_type": "display_data"
    }
   ],
   "source": [
    "image(smooth[50,:,:,32].toarray(), size = 5)"
   ]
  },
  {
   "cell_type": "code",
   "execution_count": 374,
   "metadata": {},
   "outputs": [],
   "source": [
    "path = \"/Users/tianyichen/sheffield_studying_material/dissertation project/dataset folder/FMRI/ADNI/AD4/rp_ADNI_031_S_4024_MR_Resting_State_fMRI_br_raw_20110425135346199_2756_S105083_I228872.txt\""
   ]
  },
  {
   "cell_type": "code",
   "execution_count": 408,
   "metadata": {},
   "outputs": [],
   "source": [
    "shiftx = []\n",
    "shifty = []\n",
    "shiftz = []\n",
    "rotatex = []\n",
    "rotatey = []\n",
    "rotatez = []\n",
    "import pandas as pd\n",
    "f = open(path) \n",
    "for line in f.readlines(): \n",
    "    tx,ty,tz,rx,ry,rz = line.split()\n",
    "    shiftx.append(np.float(tx))\n",
    "    shifty.append(np.float(ty))\n",
    "    shiftz.append(np.float(tz))\n",
    "    rotatex.append(np.float(rx))\n",
    "    rotatey.append(np.float(ry))\n",
    "    rotatez.append(np.float(rz))"
   ]
  },
  {
   "cell_type": "code",
   "execution_count": 410,
   "metadata": {},
   "outputs": [
    {
     "data": {
      "text/plain": [
       "[<matplotlib.lines.Line2D at 0x1c2a001e80>]"
      ]
     },
     "execution_count": 410,
     "metadata": {},
     "output_type": "execute_result"
    },
    {
     "data": {
      "image/png": "[encoded data removed]",
      "text/plain": [
       "<Figure size 432x288 with 1 Axes>"
      ]
     },
     "metadata": {
      "needs_background": "light"
     },
     "output_type": "display_data"
    }
   ],
   "source": [
    "plt.plot(np.arange(140),np.transpose(shiftx))\n",
    "plt.plot(np.arange(140),np.transpose(shifty))\n",
    "plt.plot(np.arange(140),np.transpose(shiftz))"
   ]
  },
  {
   "cell_type": "code",
   "execution_count": 583,
   "metadata": {},
   "outputs": [
    {
     "data": {
      "text/plain": [
       "[<matplotlib.lines.Line2D at 0x1c30a7b470>]"
      ]
     },
     "execution_count": 583,
     "metadata": {},
     "output_type": "execute_result"
    },
    {
     "data": {
      "image/png": "[encoded data removed]",
      "text/plain": [
       "<Figure size 432x288 with 1 Axes>"
      ]
     },
     "metadata": {
      "needs_background": "light"
     },
     "output_type": "display_data"
    }
   ],
   "source": [
    "plt.plot(np.arange(140),np.transpose(rotatex))\n",
    "plt.plot(np.arange(140),np.transpose(rotatey))\n",
    "plt.plot(np.arange(140),np.transpose(rotatez))"
   ]
  },
  {
   "cell_type": "markdown",
   "metadata": {},
   "source": [
    "# visualization of extracted feature"
   ]
  },
  {
   "cell_type": "code",
   "execution_count": 372,
   "metadata": {},
   "outputs": [
    {
     "data": {
      "text/plain": [
       "<matplotlib.image.AxesImage at 0x1c28d2bb38>"
      ]
     },
     "execution_count": 372,
     "metadata": {},
     "output_type": "execute_result"
    },
    {
     "data": {
      "image/png": "[encoded data removed]",
      "text/plain": [
       "<Figure size 504x360 with 2 Axes>"
      ]
     },
     "metadata": {
      "needs_background": "light"
     },
     "output_type": "display_data"
    }
   ],
   "source": [
    "#the correlation matrix of one AD subject\n",
    "%matplotlib inline\n",
    "from nilearn.connectome import ConnectivityMeasure\n",
    "correlation_measure = ConnectivityMeasure(kind='correlation')\n",
    "correlation_matrix = correlation_measure.fit_transform([time_course[0].T])[0]\n",
    "\n",
    "# Display the correlation matrix\n",
    "import numpy as np\n",
    "from nilearn import plotting\n",
    "# Mask out the major diagonal\n",
    "np.fill_diagonal(correlation_matrix, 0)\n",
    "plotting.plot_matrix(correlation_matrix, labels=None, colorbar=True,\n",
    "                     vmax=0.8, vmin=-0.8)"
   ]
  },
  {
   "cell_type": "code",
   "execution_count": 373,
   "metadata": {},
   "outputs": [
    {
     "data": {
      "text/plain": [
       "<matplotlib.image.AxesImage at 0x1c28e96d30>"
      ]
     },
     "execution_count": 373,
     "metadata": {},
     "output_type": "execute_result"
    },
    {
     "data": {
      "image/png": "[encoded data removed]",
      "text/plain": [
       "<Figure size 504x360 with 2 Axes>"
      ]
     },
     "metadata": {
      "needs_background": "light"
     },
     "output_type": "display_data"
    }
   ],
   "source": [
    "#the correlation matrix of one healthy subject\n",
    "from nilearn.connectome import ConnectivityMeasure\n",
    "correlation_measure = ConnectivityMeasure(kind='correlation')\n",
    "correlation_matrix = correlation_measure.fit_transform([time_course[60].T])[0]\n",
    "\n",
    "# Display the correlation matrix\n",
    "import numpy as np\n",
    "from nilearn import plotting\n",
    "# Mask out the major diagonal\n",
    "np.fill_diagonal(correlation_matrix, 0)\n",
    "plotting.plot_matrix(correlation_matrix, labels=None, colorbar=True,\n",
    "                     vmax=0.8, vmin=-0.8)"
   ]
  },
  {
   "cell_type": "code",
   "execution_count": null,
   "metadata": {},
   "outputs": [],
   "source": []
  }
 ],
 "metadata": {
  "kernelspec": {
   "display_name": "Python 3",
   "language": "python",
   "name": "python3"
  },
  "language_info": {
   "codemirror_mode": {
    "name": "ipython",
    "version": 3
   },
   "file_extension": ".py",
   "mimetype": "text/x-python",
   "name": "python",
   "nbconvert_exporter": "python",
   "pygments_lexer": "ipython3",
   "version": "3.7.1"
  }
 },
 "nbformat": 4,
 "nbformat_minor": 2
}
